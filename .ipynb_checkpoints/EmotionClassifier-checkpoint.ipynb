{
 "cells": [
  {
   "cell_type": "code",
   "execution_count": 1,
   "metadata": {
    "id": "I9rFsfWW1WsR"
   },
   "outputs": [],
   "source": [
    "import os\n",
    "import numpy as np\n",
    "from tensorflow.keras.preprocessing.image import ImageDataGenerator\n",
    "from tensorflow.keras.models import Sequential\n",
    "from tensorflow.keras.layers import Conv2D, MaxPooling2D, Flatten, Dense\n",
    "from tensorflow.keras.optimizers import Adam"
   ]
  },
  {
   "cell_type": "code",
   "execution_count": 2,
   "metadata": {},
   "outputs": [],
   "source": [
    "# Path to your data folder\n",
    "train_dir = os.path.join(\"data\", \"train\")\n",
    "test_dir = os.path.join(\"data\", \"test\")"
   ]
  },
  {
   "cell_type": "code",
   "execution_count": 3,
   "metadata": {},
   "outputs": [
    {
     "name": "stdout",
     "output_type": "stream",
     "text": [
      "Found 36 images belonging to 4 classes.\n",
      "Found 44 images belonging to 4 classes.\n"
     ]
    }
   ],
   "source": [
    "# Load images\n",
    "img_size = (64, 64)\n",
    "batch_size = 4\n",
    "\n",
    "datagen = ImageDataGenerator(rescale=1./255)\n",
    "\n",
    "train_data = datagen.flow_from_directory(\n",
    "    train_dir,\n",
    "    target_size=img_size,\n",
    "    batch_size=batch_size,\n",
    "    class_mode='categorical'\n",
    ")\n",
    "\n",
    "test_data = datagen.flow_from_directory(\n",
    "    test_dir,\n",
    "    target_size=img_size,\n",
    "    batch_size=batch_size,\n",
    "    class_mode='categorical'\n",
    ")"
   ]
  },
  {
   "cell_type": "code",
   "execution_count": 4,
   "metadata": {},
   "outputs": [],
   "source": [
    "# Simple CNN model\n",
    "model = Sequential([\n",
    "    Conv2D(16, (3, 3), activation='relu', input_shape=(64, 64, 3)),\n",
    "    MaxPooling2D(),\n",
    "    Conv2D(32, (3, 3), activation='relu'),\n",
    "    MaxPooling2D(),\n",
    "    Flatten(),\n",
    "    Dense(32, activation='relu'),\n",
    "    Dense(4, activation='softmax')  # 4 classes: fear, joy, sad, natural \n",
    "])\n"
   ]
  },
  {
   "cell_type": "code",
   "execution_count": 5,
   "metadata": {},
   "outputs": [],
   "source": [
    "model.compile(optimizer=Adam(learning_rate=0.001), loss='categorical_crossentropy', \n",
    "              metrics=['accuracy'])"
   ]
  },
  {
   "cell_type": "code",
   "execution_count": 6,
   "metadata": {},
   "outputs": [
    {
     "name": "stdout",
     "output_type": "stream",
     "text": [
      "Epoch 1/5\n",
      "9/9 [==============================] - 2s 90ms/step - loss: 1.7094 - accuracy: 0.2222 - val_loss: 1.3739 - val_accuracy: 0.2955\n",
      "Epoch 2/5\n",
      "9/9 [==============================] - 0s 44ms/step - loss: 1.4487 - accuracy: 0.2500 - val_loss: 1.3754 - val_accuracy: 0.2955\n",
      "Epoch 3/5\n",
      "9/9 [==============================] - 0s 43ms/step - loss: 1.3626 - accuracy: 0.3889 - val_loss: 1.3895 - val_accuracy: 0.1591\n",
      "Epoch 4/5\n",
      "9/9 [==============================] - 0s 48ms/step - loss: 1.3563 - accuracy: 0.3333 - val_loss: 1.4280 - val_accuracy: 0.2273\n",
      "Epoch 5/5\n",
      "9/9 [==============================] - 0s 49ms/step - loss: 1.3258 - accuracy: 0.4167 - val_loss: 1.3936 - val_accuracy: 0.1591\n"
     ]
    },
    {
     "name": "stderr",
     "output_type": "stream",
     "text": [
      "C:\\Users\\user\\anaconda3\\envs\\learn-env\\lib\\site-packages\\keras\\src\\engine\\training.py:3000: UserWarning: You are saving your model as an HDF5 file via `model.save()`. This file format is considered legacy. We recommend using instead the native Keras format, e.g. `model.save('my_model.keras')`.\n",
      "  saving_api.save_model(\n"
     ]
    }
   ],
   "source": [
    "# Train quickly (like 5 epochs)\n",
    "model.fit(train_data, validation_data=test_data, epochs=5)\n",
    "\n",
    "# Save model if needed\n",
    "model.save(\"simple_emotion_model.h5\")"
   ]
  },
  {
   "cell_type": "code",
   "execution_count": 7,
   "metadata": {},
   "outputs": [
    {
     "name": "stdout",
     "output_type": "stream",
     "text": [
      "11/11 [==============================] - 0s 15ms/step - loss: 1.3936 - accuracy: 0.1591\n",
      "Test accuracy: 0.16\n"
     ]
    }
   ],
   "source": [
    "loss, accuracy = model.evaluate(test_data)\n",
    "print(f\"Test accuracy: {accuracy:.2f}\")\n"
   ]
  },
  {
   "cell_type": "code",
   "execution_count": 8,
   "metadata": {},
   "outputs": [
    {
     "name": "stdout",
     "output_type": "stream",
     "text": [
      "1/1 [==============================] - 0s 220ms/step\n",
      "Predicted class: fear\n"
     ]
    }
   ],
   "source": [
    "import numpy as np\n",
    "from tensorflow.keras.preprocessing import image\n",
    "\n",
    "# Load an image you want to test\n",
    "img_path = 'data/test/joy/124.jpg'\n",
    "img = image.load_img(img_path, target_size=(64, 64))\n",
    "img_array = image.img_to_array(img) / 255.0  # normalize\n",
    "img_array = np.expand_dims(img_array, axis=0)  # add batch dimension\n",
    "\n",
    "# Predict\n",
    "pred = model.predict(img_array)\n",
    "predicted_class = np.argmax(pred, axis=1)\n",
    "\n",
    "# Get class labels from the generator\n",
    "class_labels = list(train_data.class_indices.keys())\n",
    "\n",
    "print(f\"Predicted class: {class_labels[predicted_class[0]]}\")\n"
   ]
  },
  {
   "cell_type": "code",
   "execution_count": null,
   "metadata": {},
   "outputs": [],
   "source": []
  }
 ],
 "metadata": {
  "colab": {
   "provenance": []
  },
  "kernelspec": {
   "display_name": "Python 3",
   "language": "python",
   "name": "python3"
  },
  "language_info": {
   "codemirror_mode": {
    "name": "ipython",
    "version": 3
   },
   "file_extension": ".py",
   "mimetype": "text/x-python",
   "name": "python",
   "nbconvert_exporter": "python",
   "pygments_lexer": "ipython3",
   "version": "3.8.5"
  }
 },
 "nbformat": 4,
 "nbformat_minor": 1
}
